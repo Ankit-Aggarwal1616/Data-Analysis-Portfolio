{
 "cells": [
  {
   "cell_type": "markdown",
   "id": "b85d46d3-98ed-4a6d-939c-3f5ee4a50d1b",
   "metadata": {},
   "source": [
    "# Covid-19 in India: An analysis of geographical and monthly trends"
   ]
  },
  {
   "cell_type": "markdown",
   "id": "dba08aed-6b5a-41d1-ba9b-6239f8a2fc48",
   "metadata": {},
   "source": [
    "## Objective"
   ]
  },
  {
   "cell_type": "markdown",
   "id": "8a75698b-bed2-40d0-ad22-63cb7035a140",
   "metadata": {},
   "source": [
    "I went to New Delhi, India as a summer intern in July 2021, working to poll government schools on students' health habits. I want to use the data from this dataset to determine how theoretically safe it was for me to have visited Delhi during that time. This project also aims to show geographical and monthly analysis of Covid-19 in India, perhaps helping future Indian healthcare and pharmaceutical companies combat future viruses and their variants. "
   ]
  },
  {
   "cell_type": "markdown",
   "id": "a40592cc-6767-483f-a4a8-70254e867fd3",
   "metadata": {},
   "source": [
    "## Setup"
   ]
  },
  {
   "cell_type": "markdown",
   "id": "8b120de1-1a74-46c1-9f7f-b4060cd2ff00",
   "metadata": {},
   "source": [
    "#### Importing Necessary Libraries"
   ]
  },
  {
   "cell_type": "code",
   "execution_count": 54,
   "id": "b3ca4fde-6027-42c1-b8a7-efada11e8e29",
   "metadata": {},
   "outputs": [],
   "source": [
    "import pandas as pd\n",
    "import matplotlib.pyplot as plt\n",
    "import seaborn as sns\n",
    "import numpy as np\n",
    "from prophet import Prophet"
   ]
  },
  {
   "cell_type": "markdown",
   "id": "b7c85c5c-8255-488d-89ba-39b557d9b56c",
   "metadata": {},
   "source": [
    "#### Reading in the data"
   ]
  },
  {
   "cell_type": "code",
   "execution_count": 55,
   "id": "c80fdbe4-2579-4f7f-a187-78fcc3144273",
   "metadata": {},
   "outputs": [],
   "source": [
    "df = pd.read_csv(r'C:\\Users\\ankit\\Data Project COVID 19 INDIA\\covid_19_data.csv\\covid_19_data.csv')"
   ]
  },
  {
   "cell_type": "markdown",
   "id": "93fb14c6-40a6-4ac9-be45-fb916ae021d4",
   "metadata": {},
   "source": [
    "#### Filtering Data for India and Looking at the Data"
   ]
  },
  {
   "cell_type": "code",
   "execution_count": 56,
   "id": "366659a7-1723-4ce3-b2cc-a32a1d96ca2d",
   "metadata": {},
   "outputs": [
    {
     "data": {
      "text/html": [
       "<div>\n",
       "<style scoped>\n",
       "    .dataframe tbody tr th:only-of-type {\n",
       "        vertical-align: middle;\n",
       "    }\n",
       "\n",
       "    .dataframe tbody tr th {\n",
       "        vertical-align: top;\n",
       "    }\n",
       "\n",
       "    .dataframe thead th {\n",
       "        text-align: right;\n",
       "    }\n",
       "</style>\n",
       "<table border=\"1\" class=\"dataframe\">\n",
       "  <thead>\n",
       "    <tr style=\"text-align: right;\">\n",
       "      <th></th>\n",
       "      <th>SNo</th>\n",
       "      <th>ObservationDate</th>\n",
       "      <th>Province/State</th>\n",
       "      <th>Country/Region</th>\n",
       "      <th>Last Update</th>\n",
       "      <th>Confirmed</th>\n",
       "      <th>Deaths</th>\n",
       "      <th>Recovered</th>\n",
       "    </tr>\n",
       "  </thead>\n",
       "  <tbody>\n",
       "    <tr>\n",
       "      <th>446</th>\n",
       "      <td>447</td>\n",
       "      <td>01/30/2020</td>\n",
       "      <td>NaN</td>\n",
       "      <td>India</td>\n",
       "      <td>1/30/20 16:00</td>\n",
       "      <td>1.0</td>\n",
       "      <td>0.0</td>\n",
       "      <td>0.0</td>\n",
       "    </tr>\n",
       "    <tr>\n",
       "      <th>509</th>\n",
       "      <td>510</td>\n",
       "      <td>01/31/2020</td>\n",
       "      <td>NaN</td>\n",
       "      <td>India</td>\n",
       "      <td>1/31/2020 23:59</td>\n",
       "      <td>1.0</td>\n",
       "      <td>0.0</td>\n",
       "      <td>0.0</td>\n",
       "    </tr>\n",
       "    <tr>\n",
       "      <th>567</th>\n",
       "      <td>568</td>\n",
       "      <td>02/01/2020</td>\n",
       "      <td>NaN</td>\n",
       "      <td>India</td>\n",
       "      <td>1/31/2020 8:15</td>\n",
       "      <td>1.0</td>\n",
       "      <td>0.0</td>\n",
       "      <td>0.0</td>\n",
       "    </tr>\n",
       "    <tr>\n",
       "      <th>629</th>\n",
       "      <td>630</td>\n",
       "      <td>02/02/2020</td>\n",
       "      <td>NaN</td>\n",
       "      <td>India</td>\n",
       "      <td>2020-02-02T06:03:08</td>\n",
       "      <td>2.0</td>\n",
       "      <td>0.0</td>\n",
       "      <td>0.0</td>\n",
       "    </tr>\n",
       "    <tr>\n",
       "      <th>696</th>\n",
       "      <td>697</td>\n",
       "      <td>02/03/2020</td>\n",
       "      <td>NaN</td>\n",
       "      <td>India</td>\n",
       "      <td>2020-02-03T21:43:02</td>\n",
       "      <td>3.0</td>\n",
       "      <td>0.0</td>\n",
       "      <td>0.0</td>\n",
       "    </tr>\n",
       "  </tbody>\n",
       "</table>\n",
       "</div>"
      ],
      "text/plain": [
       "     SNo ObservationDate Province/State Country/Region          Last Update  \\\n",
       "446  447      01/30/2020            NaN          India        1/30/20 16:00   \n",
       "509  510      01/31/2020            NaN          India      1/31/2020 23:59   \n",
       "567  568      02/01/2020            NaN          India       1/31/2020 8:15   \n",
       "629  630      02/02/2020            NaN          India  2020-02-02T06:03:08   \n",
       "696  697      02/03/2020            NaN          India  2020-02-03T21:43:02   \n",
       "\n",
       "     Confirmed  Deaths  Recovered  \n",
       "446        1.0     0.0        0.0  \n",
       "509        1.0     0.0        0.0  \n",
       "567        1.0     0.0        0.0  \n",
       "629        2.0     0.0        0.0  \n",
       "696        3.0     0.0        0.0  "
      ]
     },
     "execution_count": 56,
     "metadata": {},
     "output_type": "execute_result"
    }
   ],
   "source": [
    "df_india = df[df['Country/Region'] == 'India']\n",
    "df_india.head()"
   ]
  },
  {
   "cell_type": "markdown",
   "id": "3be5176a-4d00-4a0d-8741-a7e09079ed7c",
   "metadata": {},
   "source": [
    "## Data Cleaning"
   ]
  },
  {
   "cell_type": "markdown",
   "id": "4c7125b0-7ac2-4e74-a22b-937e94c59a6f",
   "metadata": {},
   "source": [
    "#### Check for Incomplete Data"
   ]
  },
  {
   "cell_type": "code",
   "execution_count": 57,
   "id": "52737ffb-ea46-45a5-b7e7-397ed46a3f1b",
   "metadata": {},
   "outputs": [
    {
     "name": "stdout",
     "output_type": "stream",
     "text": [
      "SNo - 0%\n",
      "ObservationDate - 0%\n",
      "Province/State - 1%\n",
      "Country/Region - 0%\n",
      "Last Update - 0%\n",
      "Confirmed - 0%\n",
      "Deaths - 0%\n",
      "Recovered - 0%\n"
     ]
    }
   ],
   "source": [
    "for col in df_india.columns:\n",
    "    percent_missing = np.mean(df_india[col].isnull())\n",
    "    print('{} - {}%'.format(col, round(percent_missing*100)))"
   ]
  },
  {
   "cell_type": "markdown",
   "id": "35862a07-8814-452e-b1eb-f0f5ae3f28ce",
   "metadata": {},
   "source": [
    "#### Remove Null Values and Drop Duplicates"
   ]
  },
  {
   "cell_type": "code",
   "execution_count": 58,
   "id": "b91bdadb-ae33-4279-97b5-2a519d1b7837",
   "metadata": {},
   "outputs": [
    {
     "data": {
      "text/html": [
       "<div>\n",
       "<style scoped>\n",
       "    .dataframe tbody tr th:only-of-type {\n",
       "        vertical-align: middle;\n",
       "    }\n",
       "\n",
       "    .dataframe tbody tr th {\n",
       "        vertical-align: top;\n",
       "    }\n",
       "\n",
       "    .dataframe thead th {\n",
       "        text-align: right;\n",
       "    }\n",
       "</style>\n",
       "<table border=\"1\" class=\"dataframe\">\n",
       "  <thead>\n",
       "    <tr style=\"text-align: right;\">\n",
       "      <th></th>\n",
       "      <th>SNo</th>\n",
       "      <th>ObservationDate</th>\n",
       "      <th>Province/State</th>\n",
       "      <th>Country/Region</th>\n",
       "      <th>Last Update</th>\n",
       "      <th>Confirmed</th>\n",
       "      <th>Deaths</th>\n",
       "      <th>Recovered</th>\n",
       "    </tr>\n",
       "  </thead>\n",
       "  <tbody>\n",
       "    <tr>\n",
       "      <th>39260</th>\n",
       "      <td>39261</td>\n",
       "      <td>06/10/2020</td>\n",
       "      <td>Andaman and Nicobar Islands</td>\n",
       "      <td>India</td>\n",
       "      <td>2021-04-02 15:13:53</td>\n",
       "      <td>33.0</td>\n",
       "      <td>0.0</td>\n",
       "      <td>33.0</td>\n",
       "    </tr>\n",
       "    <tr>\n",
       "      <th>39261</th>\n",
       "      <td>39262</td>\n",
       "      <td>06/10/2020</td>\n",
       "      <td>Andhra Pradesh</td>\n",
       "      <td>India</td>\n",
       "      <td>2021-04-02 15:13:53</td>\n",
       "      <td>5070.0</td>\n",
       "      <td>77.0</td>\n",
       "      <td>2802.0</td>\n",
       "    </tr>\n",
       "    <tr>\n",
       "      <th>39277</th>\n",
       "      <td>39278</td>\n",
       "      <td>06/10/2020</td>\n",
       "      <td>Arunachal Pradesh</td>\n",
       "      <td>India</td>\n",
       "      <td>2021-04-02 15:13:53</td>\n",
       "      <td>57.0</td>\n",
       "      <td>0.0</td>\n",
       "      <td>1.0</td>\n",
       "    </tr>\n",
       "    <tr>\n",
       "      <th>39278</th>\n",
       "      <td>39279</td>\n",
       "      <td>06/10/2020</td>\n",
       "      <td>Assam</td>\n",
       "      <td>India</td>\n",
       "      <td>2021-04-02 15:13:53</td>\n",
       "      <td>2937.0</td>\n",
       "      <td>4.0</td>\n",
       "      <td>1085.0</td>\n",
       "    </tr>\n",
       "    <tr>\n",
       "      <th>39300</th>\n",
       "      <td>39301</td>\n",
       "      <td>06/10/2020</td>\n",
       "      <td>Bihar</td>\n",
       "      <td>India</td>\n",
       "      <td>2021-04-02 15:13:53</td>\n",
       "      <td>5459.0</td>\n",
       "      <td>32.0</td>\n",
       "      <td>2864.0</td>\n",
       "    </tr>\n",
       "    <tr>\n",
       "      <th>...</th>\n",
       "      <td>...</td>\n",
       "      <td>...</td>\n",
       "      <td>...</td>\n",
       "      <td>...</td>\n",
       "      <td>...</td>\n",
       "      <td>...</td>\n",
       "      <td>...</td>\n",
       "      <td>...</td>\n",
       "    </tr>\n",
       "    <tr>\n",
       "      <th>306351</th>\n",
       "      <td>306352</td>\n",
       "      <td>05/29/2021</td>\n",
       "      <td>Tripura</td>\n",
       "      <td>India</td>\n",
       "      <td>2021-05-30 04:20:55</td>\n",
       "      <td>50739.0</td>\n",
       "      <td>507.0</td>\n",
       "      <td>43190.0</td>\n",
       "    </tr>\n",
       "    <tr>\n",
       "      <th>306366</th>\n",
       "      <td>306367</td>\n",
       "      <td>05/29/2021</td>\n",
       "      <td>Unknown</td>\n",
       "      <td>India</td>\n",
       "      <td>2021-05-30 04:20:55</td>\n",
       "      <td>0.0</td>\n",
       "      <td>0.0</td>\n",
       "      <td>0.0</td>\n",
       "    </tr>\n",
       "    <tr>\n",
       "      <th>306377</th>\n",
       "      <td>306378</td>\n",
       "      <td>05/29/2021</td>\n",
       "      <td>Uttar Pradesh</td>\n",
       "      <td>India</td>\n",
       "      <td>2021-05-30 04:20:55</td>\n",
       "      <td>1688152.0</td>\n",
       "      <td>20208.0</td>\n",
       "      <td>1621743.0</td>\n",
       "    </tr>\n",
       "    <tr>\n",
       "      <th>306378</th>\n",
       "      <td>306379</td>\n",
       "      <td>05/29/2021</td>\n",
       "      <td>Uttarakhand</td>\n",
       "      <td>India</td>\n",
       "      <td>2021-05-30 04:20:55</td>\n",
       "      <td>327112.0</td>\n",
       "      <td>6360.0</td>\n",
       "      <td>289642.0</td>\n",
       "    </tr>\n",
       "    <tr>\n",
       "      <th>306406</th>\n",
       "      <td>306407</td>\n",
       "      <td>05/29/2021</td>\n",
       "      <td>West Bengal</td>\n",
       "      <td>India</td>\n",
       "      <td>2021-05-30 04:20:55</td>\n",
       "      <td>1354956.0</td>\n",
       "      <td>15268.0</td>\n",
       "      <td>1237290.0</td>\n",
       "    </tr>\n",
       "  </tbody>\n",
       "</table>\n",
       "<p>13050 rows × 8 columns</p>\n",
       "</div>"
      ],
      "text/plain": [
       "           SNo ObservationDate               Province/State Country/Region  \\\n",
       "39260    39261      06/10/2020  Andaman and Nicobar Islands          India   \n",
       "39261    39262      06/10/2020               Andhra Pradesh          India   \n",
       "39277    39278      06/10/2020            Arunachal Pradesh          India   \n",
       "39278    39279      06/10/2020                        Assam          India   \n",
       "39300    39301      06/10/2020                        Bihar          India   \n",
       "...        ...             ...                          ...            ...   \n",
       "306351  306352      05/29/2021                      Tripura          India   \n",
       "306366  306367      05/29/2021                      Unknown          India   \n",
       "306377  306378      05/29/2021                Uttar Pradesh          India   \n",
       "306378  306379      05/29/2021                  Uttarakhand          India   \n",
       "306406  306407      05/29/2021                  West Bengal          India   \n",
       "\n",
       "                Last Update  Confirmed   Deaths  Recovered  \n",
       "39260   2021-04-02 15:13:53       33.0      0.0       33.0  \n",
       "39261   2021-04-02 15:13:53     5070.0     77.0     2802.0  \n",
       "39277   2021-04-02 15:13:53       57.0      0.0        1.0  \n",
       "39278   2021-04-02 15:13:53     2937.0      4.0     1085.0  \n",
       "39300   2021-04-02 15:13:53     5459.0     32.0     2864.0  \n",
       "...                     ...        ...      ...        ...  \n",
       "306351  2021-05-30 04:20:55    50739.0    507.0    43190.0  \n",
       "306366  2021-05-30 04:20:55        0.0      0.0        0.0  \n",
       "306377  2021-05-30 04:20:55  1688152.0  20208.0  1621743.0  \n",
       "306378  2021-05-30 04:20:55   327112.0   6360.0   289642.0  \n",
       "306406  2021-05-30 04:20:55  1354956.0  15268.0  1237290.0  \n",
       "\n",
       "[13050 rows x 8 columns]"
      ]
     },
     "execution_count": 58,
     "metadata": {},
     "output_type": "execute_result"
    }
   ],
   "source": [
    "df_india = df_india.dropna()\n",
    "df_india.drop_duplicates()"
   ]
  },
  {
   "cell_type": "markdown",
   "id": "80f750a3-2b90-4523-a331-53487775e56b",
   "metadata": {},
   "source": [
    "#### Checking Column Data Types "
   ]
  },
  {
   "cell_type": "code",
   "execution_count": 59,
   "id": "c219377b-8617-40b5-b52f-35d284558152",
   "metadata": {},
   "outputs": [
    {
     "name": "stdout",
     "output_type": "stream",
     "text": [
      "SNo                  int64\n",
      "ObservationDate     object\n",
      "Province/State      object\n",
      "Country/Region      object\n",
      "Last Update         object\n",
      "Confirmed          float64\n",
      "Deaths             float64\n",
      "Recovered          float64\n",
      "dtype: object\n"
     ]
    }
   ],
   "source": [
    "print(df_india.dtypes)"
   ]
  },
  {
   "cell_type": "markdown",
   "id": "4214c87c-6dd2-417b-a972-d4db514da063",
   "metadata": {},
   "source": [
    "#### Setting 'ObservationDate' to datetime format"
   ]
  },
  {
   "cell_type": "code",
   "execution_count": 60,
   "id": "1e309203-7d95-4ce0-ace5-79d6f9c9e787",
   "metadata": {},
   "outputs": [
    {
     "name": "stdout",
     "output_type": "stream",
     "text": [
      "SNo                         int64\n",
      "ObservationDate    datetime64[ns]\n",
      "Province/State             object\n",
      "Country/Region             object\n",
      "Last Update                object\n",
      "Confirmed                 float64\n",
      "Deaths                    float64\n",
      "Recovered                 float64\n",
      "dtype: object\n"
     ]
    }
   ],
   "source": [
    "df_india['ObservationDate'] = pd.to_datetime(df_india['ObservationDate'])\n",
    "print(df_india.dtypes)"
   ]
  },
  {
   "cell_type": "markdown",
   "id": "e321a6c4-3b76-4cae-8d99-7bd9c6d3849d",
   "metadata": {},
   "source": [
    "## Data Exploration"
   ]
  },
  {
   "cell_type": "markdown",
   "id": "94e1ef14-1588-4958-bc8c-9f454032e0a8",
   "metadata": {},
   "source": [
    "In my analysis, I explored the data, figuring out monthly trends for confirmed Covid-19 cases, Covid-19 recoveries, and Covid-19 deaths across all states in India. I then broke down results by state, and attempted to forecast the next 100 days in Delhi and, more broadly, India as a whole. Finally, I determined how much my forecast deviated from reality and why that could be. "
   ]
  },
  {
   "cell_type": "markdown",
   "id": "1e6106d4-a6fe-40d8-8a54-7681d0465713",
   "metadata": {},
   "source": [
    "#### Data Aggregation"
   ]
  },
  {
   "cell_type": "markdown",
   "id": "c0f479e1-1150-44ad-a36d-96f474f50d28",
   "metadata": {},
   "source": [
    "I summed the three columns, 'Confirmed', 'Deaths', and 'Recovered' to get a broader picture of total Covid-19 cases across India separated by month"
   ]
  },
  {
   "cell_type": "code",
   "execution_count": 61,
   "id": "452f2e8e-bb28-44b2-b209-6678f6b386b2",
   "metadata": {},
   "outputs": [],
   "source": [
    "# Aggregate the data by date, summing up the counts\n",
    "df_aggregated = df_india.groupby('ObservationDate').agg({\n",
    "    'Confirmed': 'sum',\n",
    "    'Deaths': 'sum',\n",
    "    'Recovered': 'sum'\n",
    "}).reset_index()"
   ]
  },
  {
   "cell_type": "markdown",
   "id": "d57bedd7-3794-4497-87e9-fbe08c2072ce",
   "metadata": {},
   "source": [
    "#### Plotting Aggregated Data"
   ]
  },
  {
   "cell_type": "code",
   "execution_count": 62,
   "id": "8fb2db70-e4c1-43db-8c5d-4cd260259147",
   "metadata": {},
   "outputs": [
    {
     "data": {
      "image/png": "[encoded data removed]",
      "text/plain": [
       "<Figure size 1200x800 with 1 Axes>"
      ]
     },
     "metadata": {},
     "output_type": "display_data"
    }
   ],
   "source": [
    "plt.figure(figsize=(12, 8))\n",
    "\n",
    "# Creating line plot to show data\n",
    "sns.lineplot(x='ObservationDate', y='Confirmed', data=df_aggregated, label='Confirmed')\n",
    "sns.lineplot(x='ObservationDate', y='Deaths', data=df_aggregated, label='Deaths')\n",
    "sns.lineplot(x='ObservationDate', y='Recovered', data=df_aggregated, label='Recovered')\n",
    "\n",
    "#Adding title and axes labels\n",
    "plt.title('COVID-19 Trends in India (June 2020 - May 2021)')\n",
    "plt.xlabel('Date')\n",
    "plt.ylabel('Count')\n",
    "\n",
    "#Adding legend\n",
    "plt.legend()\n",
    "\n",
    "#Fixing layout\n",
    "plt.grid(True)\n",
    "plt.tight_layout()\n",
    "plt.show()"
   ]
  },
  {
   "cell_type": "markdown",
   "id": "9a47448a-75e8-4375-91ef-05ee82db1067",
   "metadata": {},
   "source": [
    "**Conclusion:** There seems to be a small uptick in Covid-19 cases around October 2020, with a massive uptick in cases around late April 2021, totalling upwards of 25 million cases just past May 2021. Also of note is that most people who are confirmed to have Covid-19 in India eventually do recover from the virus, since the 'Recovered' line closely mirrors the 'Confirmed' line. However, one issue to note is that the 'Death' line seems to be a straight line since its scale is too small compared to our other columns. "
   ]
  },
  {
   "cell_type": "markdown",
   "id": "b3c9822e-9a99-4e70-8172-f7b9d83c219c",
   "metadata": {},
   "source": [
    "#### Plotting 'Deaths' Separately"
   ]
  },
  {
   "cell_type": "code",
   "execution_count": 63,
   "id": "e5e9635a-482a-48a4-aba8-6013caa42da1",
   "metadata": {},
   "outputs": [
    {
     "data": {
      "image/png": "[encoded data removed]",
      "text/plain": [
       "<Figure size 1200x800 with 1 Axes>"
      ]
     },
     "metadata": {},
     "output_type": "display_data"
    }
   ],
   "source": [
    "plt.figure(figsize=(12, 8))\n",
    "\n",
    "# Creating line plot to only show death data\n",
    "sns.lineplot(x='ObservationDate', y='Deaths', data=df_aggregated, label='Deaths')\n",
    "\n",
    "#Adding title and axes labels\n",
    "plt.title('COVID-19 Trends in India (July 2020 - May 2021)')\n",
    "plt.xlabel('Date')\n",
    "plt.ylabel('Count')\n",
    "\n",
    "#Creating Legend\n",
    "plt.legend()\n",
    "\n",
    "#Fixing layout\n",
    "plt.tight_layout()\n",
    "plt.grid(True)\n",
    "plt.show()"
   ]
  },
  {
   "cell_type": "markdown",
   "id": "25ad91d7-65b5-48e7-ae05-2ef4b05dfa94",
   "metadata": {},
   "source": [
    "**Observation:** We can see the 'Deaths' line more clearly now, showing an aggregate death count of over 300,000 people by the end of May 2021. "
   ]
  },
  {
   "cell_type": "markdown",
   "id": "9f039269-9914-415f-a184-6497a2a336b8",
   "metadata": {},
   "source": [
    "#### Plotting Confirmed Cases by Indian State"
   ]
  },
  {
   "cell_type": "markdown",
   "id": "3cb84e11-3c31-47a2-9179-27f6efeccc4f",
   "metadata": {},
   "source": [
    "Now, I would like to plot the aggregated data by state, visualizing which states were hit most severely by Covid-19."
   ]
  },
  {
   "cell_type": "markdown",
   "id": "7049bcf4-8988-4875-9bfa-89cb9481f77c",
   "metadata": {},
   "source": [
    "#### Plotting Total State Data"
   ]
  },
  {
   "cell_type": "code",
   "execution_count": null,
   "id": "90d1cd51-327d-475f-bb52-97b1b0cfdd13",
   "metadata": {},
   "outputs": [],
   "source": [
    "plt.figure(figsize=(12, 8))\n",
    "plt.bar(df_india['Province/State'], df_india['Confirmed'], color='skyblue')\n",
    "plt.xlabel('State')\n",
    "plt.ylabel('Confirmed Cases')\n",
    "plt.title('Total Confirmed Cases by State in India')\n",
    "plt.xticks(rotation=45, ha='right')\n",
    "plt.show()"
   ]
  },
  {
   "cell_type": "markdown",
   "id": "fe9ec80a-e2d7-4482-a72a-795e5f0a6592",
   "metadata": {},
   "source": [
    "**Conclusion:** This data shows us that the most affected states were Maharashtra, Karnataka, and Kerala to name a few. The next steps to analyze more data could be showing the percentage of the population per state that was affected by Covid-19, but that is outside the scope of this dataset analysis."
   ]
  },
  {
   "cell_type": "markdown",
   "id": "038d3993-1cba-492f-8958-86dcff309299",
   "metadata": {},
   "source": [
    "#### Forecasting Future Covid-19 Data Past May 2021"
   ]
  },
  {
   "cell_type": "markdown",
   "id": "7a0a122e-a776-4e68-8a89-5b65294450c5",
   "metadata": {},
   "source": [
    "Given that I actually went to Delhi in July 2021, I want to forecast the trends in Covid-19 cases using this dataset that ends May 2021. My goal is to see if I could have better informed myself of Covid-19 safety before going by forecasting future monthly trends at the time. "
   ]
  },
  {
   "cell_type": "code",
   "execution_count": null,
   "id": "9c37379d-52aa-48ab-bc8d-fd384a0f0b5b",
   "metadata": {},
   "outputs": [],
   "source": [
    "#Creating a dataframe using aggregate sum data by month\n",
    "df_forecast = df_india.groupby('ObservationDate')['Confirmed'].sum().reset_index()\n",
    "df_forecast.columns = ['ds', 'y']\n",
    "\n",
    "# Initialize the Prophet model\n",
    "model = Prophet()\n",
    "\n",
    "# Fit the model with the data\n",
    "model.fit(df_forecast)\n",
    "\n",
    "# Create a DataFrame with 100 future dates for prediction\n",
    "future = model.make_future_dataframe(periods=100)  \n",
    "\n",
    "# Generate predictions for the future dates\n",
    "forecast = model.predict(future)\n",
    "\n",
    "# Plot the forecast with uncertainty\n",
    "fig, ax = plt.subplots(figsize=(12, 8))\n",
    "ax.plot(df_forecast['ds'], df_forecast['y'], label='Actual', color='blue')\n",
    "ax.plot(forecast['ds'], forecast['yhat'], label='Forecast', color='red')\n",
    "ax.fill_between(forecast['ds'], forecast['yhat_lower'], forecast['yhat_upper'], color='lightcoral', alpha=0.2)\n",
    "\n",
    "# Set labels and title\n",
    "plt.xlabel('Date')\n",
    "plt.ylabel('Confirmed Cases')\n",
    "plt.title('COVID-19 Forecast for Confirmed Cases in India')\n",
    "\n",
    "# Display legend\n",
    "plt.legend()\n",
    "\n",
    "# Show the plot\n",
    "plt.grid(True)\n",
    "plt.show()"
   ]
  },
  {
   "cell_type": "markdown",
   "id": "2516fc93-baca-4ba9-8851-41f6e1571e8a",
   "metadata": {},
   "source": [
    "**Conclusion:** The forecast predicts a continuous spike upwards of Covid-19 cases with seemingly no end. Since this is an elementary forecasting model, we do not expect it to be perfect, just giving us a general guideline of future Covid-19 trends. Now, we should check if these broader trends hold true at a smaller scale, repeating these visualizations on just Delhi."
   ]
  },
  {
   "cell_type": "markdown",
   "id": "82d832c6-0779-46bd-b60a-e1726802c938",
   "metadata": {},
   "source": [
    "#### Plotting Confirmed Cases In Delhi"
   ]
  },
  {
   "cell_type": "code",
   "execution_count": null,
   "id": "c9d89562-d52c-4762-9825-8b269aa7c412",
   "metadata": {},
   "outputs": [],
   "source": [
    "#Create a new dataframe filtering for Delhi\n",
    "df_delhi = df_india[df_india['Province/State'] == 'Delhi']\n",
    "\n",
    "# Plot the line graph for Delhi's confirmed cases\n",
    "plt.figure(figsize=(12, 8))  # Adjust the size as needed\n",
    "plt.plot(df_delhi['ObservationDate'], df_delhi['Confirmed'], marker='o', color='b')\n",
    "\n",
    "# Set labels and title\n",
    "plt.xlabel('Date')\n",
    "plt.ylabel('Confirmed Cases')\n",
    "plt.title('COVID-19 Confirmed Cases in Delhi')\n",
    "\n",
    "# Rotate x-axis labels for better readability\n",
    "plt.xticks(rotation=45)\n",
    "\n",
    "# Show the plot\n",
    "plt.grid(True)\n",
    "plt.tight_layout()\n",
    "plt.show()"
   ]
  },
  {
   "cell_type": "markdown",
   "id": "d04f292c-7211-42e9-97d9-32163faf4b1b",
   "metadata": {},
   "source": [
    "**Observation:** The visualization looks almost identical to India as a whole, just on a smaller scale. There seem to be minor fluctuations in late 2020, and one major difference being that the number of confirmed Covid-19 cases seems to taper off around June 2021. "
   ]
  },
  {
   "cell_type": "markdown",
   "id": "9f331a33-e034-461b-8796-1317303008b6",
   "metadata": {},
   "source": [
    "#### Forecasting Future Covid-19 Data for Delhi. How safe was it to go to Delhi in July 2021?"
   ]
  },
  {
   "cell_type": "code",
   "execution_count": null,
   "id": "7665d5ca-81bc-4e88-836c-2199307345fd",
   "metadata": {},
   "outputs": [],
   "source": [
    "# Creating a forecast dataframe for Delhi\n",
    "df_forecast_delhi = df_delhi.groupby('ObservationDate')['Confirmed'].sum().reset_index()\n",
    "df_forecast_delhi.columns = ['ds', 'y']\n",
    "\n",
    "# Initialize the Prophet model\n",
    "model_delhi = Prophet()\n",
    "\n",
    "# Fit the model with the data\n",
    "model_delhi.fit(df_forecast_delhi)\n",
    "\n",
    "# Create a DataFrame with future dates for prediction\n",
    "future_delhi = model_delhi.make_future_dataframe(periods=100)  # Assuming you want to predict the next 100 days\n",
    "\n",
    "# Generate predictions for the future dates\n",
    "forecast_delhi = model_delhi.predict(future_delhi)\n",
    "\n",
    "# Plot the forecast\n",
    "fig, ax = plt.subplots(figsize=(12, 8))\n",
    "ax.plot(df_forecast_delhi['ds'], df_forecast_delhi['y'], label='Actual', color='blue')\n",
    "ax.plot(forecast_delhi['ds'], forecast_delhi['yhat'], label='Forecast', color='red')\n",
    "ax.fill_between(forecast_delhi['ds'], forecast_delhi['yhat_lower'], forecast_delhi['yhat_upper'], color='lightcoral', alpha=0.2)\n",
    "\n",
    "# Set labels and title\n",
    "plt.xlabel('Date')\n",
    "plt.ylabel('Confirmed Cases')\n",
    "plt.title('COVID-19 Forecast for Confirmed Cases in Delhi')\n",
    "# Display legend\n",
    "plt.legend()\n",
    "\n",
    "# Show the plot\n",
    "plt.grid(True)\n",
    "plt.show()"
   ]
  },
  {
   "cell_type": "markdown",
   "id": "e69cfe79-5d5b-4bbe-9ae2-8291064c09dd",
   "metadata": {},
   "source": [
    "**Conclusion:** As we can see from the Delhi Forecast, the predicted increase in Covid-19 cases is almost identical in slope to the forecast for India as a whole. Even the minor sudden plateau in June 2021 does not seem to significantly change the slope of the forecast line, which indicates that Covid-19 cases will drastically increase in Delhi. "
   ]
  },
  {
   "cell_type": "markdown",
   "id": "83cbe26b-3e79-4060-a5f0-f56df3c19e92",
   "metadata": {},
   "source": [
    "## Final Conclusion and Comparison to Reality"
   ]
  },
  {
   "cell_type": "markdown",
   "id": "9383ca86-dd5a-48a7-943f-d95305ac730a",
   "metadata": {},
   "source": [
    "The conclusion from my data is that there will be a continual increase in Covid-19 cases throughout all of India in the latter half of 2021. Thus, if I were to strictly base my decisions off of this conclusion, I should not have gone to Delhi in July 2021. However, in reality, Covid-19 would taper off significantly right around late May 2021 and not show a significant resurgence until February 2022. I knew this at the time of leaving (around late June 2021), making it much safer than normal to travel to India and participate in my summer internship. "
   ]
  },
  {
   "cell_type": "markdown",
   "id": "14524f70-839c-442f-9048-02d0e6747812",
   "metadata": {},
   "source": [
    "There are a few potential reasons why the future trends in the dataset do not match up to what actually happened in reality. First of all, the data does not account for outside factors such as percentage of population vaccinated, herd immunity status, public mask usage, public awareness and government reform, ease of access to hospitals/vaccinations/Covid-19 tests, and even general unpredictability of viruses and their variants. All of these factors could have significant impact on the waxing and waning of Covid-19 cases throughout India. Only with more data and a more robust forecasting model could the future trends potentially match what actually happened in reality. "
   ]
  }
 ],
 "metadata": {
  "kernelspec": {
   "display_name": "Python 3 (ipykernel)",
   "language": "python",
   "name": "python3"
  },
  "language_info": {
   "codemirror_mode": {
    "name": "ipython",
    "version": 3
   },
   "file_extension": ".py",
   "mimetype": "text/x-python",
   "name": "python",
   "nbconvert_exporter": "python",
   "pygments_lexer": "ipython3",
   "version": "3.12.2"
  }
 },
 "nbformat": 4,
 "nbformat_minor": 5
}
